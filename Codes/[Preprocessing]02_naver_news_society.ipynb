{
 "metadata": {
  "language_info": {
   "codemirror_mode": {
    "name": "ipython",
    "version": 3
   },
   "file_extension": ".py",
   "mimetype": "text/x-python",
   "name": "python",
   "nbconvert_exporter": "python",
   "pygments_lexer": "ipython3",
   "version": "3.7.6-final"
  },
  "orig_nbformat": 2,
  "kernelspec": {
   "name": "python3",
   "display_name": "Python 3"
  }
 },
 "nbformat": 4,
 "nbformat_minor": 2,
 "cells": [
  {
   "cell_type": "code",
   "execution_count": 310,
   "metadata": {},
   "outputs": [],
   "source": [
    "import pandas as pd\n",
    "import numpy as np\n",
    "import re"
   ]
  },
  {
   "cell_type": "code",
   "execution_count": 311,
   "metadata": {},
   "outputs": [],
   "source": [
    "data = pd.read_csv('../data/naver_news_society_10000.csv')"
   ]
  },
  {
   "cell_type": "code",
   "execution_count": 312,
   "metadata": {},
   "outputs": [],
   "source": [
    "data_raw = data\n",
    "data['title_raw'] = data['title']\n",
    "data['content_raw'] = data['content']"
   ]
  },
  {
   "cell_type": "markdown",
   "metadata": {},
   "source": [
    "# title\n",
    "\n",
    "### 1. 괄호 처리"
   ]
  },
  {
   "cell_type": "code",
   "execution_count": 313,
   "metadata": {},
   "outputs": [],
   "source": [
    "data['title'] = data['title_raw'].str.replace(r'\\[[^]]*\\]', ' ')\n",
    "data['title'] = data['title'].str.replace(r'\\([^)]*\\)', ' ')"
   ]
  },
  {
   "cell_type": "markdown",
   "metadata": {},
   "source": [
    "### 2. 한자가 들어간 제목 데이터 제거"
   ]
  },
  {
   "cell_type": "code",
   "execution_count": 314,
   "metadata": {
    "tags": []
   },
   "outputs": [
    {
     "output_type": "stream",
     "name": "stdout",
     "text": "데이터 제거 이전 shape: (10000, 4)\n데이터 제거 이후 shape: (9610, 4)\n"
    }
   ],
   "source": [
    "print(\"데이터 제거 이전 shape:\", data.shape)\n",
    "\n",
    "regex_hanja = re.compile('.*[\\u2e80-\\u2eff\\u31c0-\\u31ef\\u3200-\\u32ff\\u3400-\\u4dbf\\u4e00-\\u9fbf\\uf900-\\ufaff].*')\n",
    "\n",
    "data = data[data['title'].map(lambda x: regex_hanja.search(x)).isna()]\n",
    "\n",
    "print(\"데이터 제거 이후 shape:\", data.shape)"
   ]
  },
  {
   "cell_type": "markdown",
   "metadata": {},
   "source": [
    "### 3. 문장부호\n",
    "- 숫자 사이에 있는 `.`빼고 `.`을 제거\n",
    "- `.`빼고 다른 문장 부호 다 제거\n",
    "- `ㆍ`제거"
   ]
  },
  {
   "cell_type": "code",
   "execution_count": 315,
   "metadata": {
    "tags": []
   },
   "outputs": [],
   "source": [
    "#-----------------\n",
    "regex = re.compile(r\"(?<!\\d)[.](?!\\d)\")\n",
    "data['title'] = data['title'].map(lambda x: re.sub(regex, ' ', x))\n",
    "\n",
    "data['title'] = data['title'].str.replace(r'[^\\w|^.]', ' ')\n",
    "data['title'] = data['title'].str.replace('ㆍ', ' ')"
   ]
  },
  {
   "cell_type": "markdown",
   "metadata": {},
   "source": [
    "---\n",
    "\n",
    "# content\n",
    "\n",
    "### 1. 기사 내용이 너무 짧거나 없는 경우 제거 (예: 사진만 있는 경우)"
   ]
  },
  {
   "cell_type": "code",
   "execution_count": 316,
   "metadata": {},
   "outputs": [
    {
     "output_type": "execute_result",
     "data": {
      "text/plain": "0                   서해상으로 북상 중인 태풍  바비  피해 줄이려면 \n1            새벽 4시 5시 사이 서울 근접  이 시각 서울시 재난안전상황실\n2                코로나 때문에 봉사시간 못 채워    졸업 막힌 대학생들\n3             성인 남자가 서 있기 힘들 정도    태풍  바비  군산 도착\n4               위험 반원  인천 초비상 초속 25m 넘으면 영종대교 통제\n                          ...                   \n9994              깜깜이 감염  확진자 확산하는 원주시 다중이용시설 폐쇄\n9995                    원주 코로나19 확진 잇달아 5명 추가 확진\n9996              경기 어제 신규확진 109명 코로나사태 이후 일일 최다\n9997    방역당국 사랑제일교회 밤샘대치    21일 명단확보 재시도 위해 대기 중\n9998               사랑제일교회  밤샘 대치 속  교인 명단 제출  거부\nName: title, Length: 9610, dtype: object"
     },
     "metadata": {},
     "execution_count": 316
    }
   ],
   "source": [
    "data['title']"
   ]
  },
  {
   "cell_type": "code",
   "execution_count": 317,
   "metadata": {
    "tags": []
   },
   "outputs": [
    {
     "output_type": "stream",
     "name": "stdout",
     "text": "동영상 뉴스초강력 태풍 '바비'로 인해 제주 곳곳에서 피해가 속출했습니다. 강한 비바람에 가로수가 꺾여 도로를 덮치거나 대형 간판이 쓰러지고, 도로의 신호등이 떨어지기도 했습니다. 제주도 소방안전본부에 따르면 오늘(26일) 오후 2시 기준으로 74건의 피해 신고가 접수됐습니다.  ▶ 연합뉴스TV 네이버 채널 구독 ▶ 생방송 시청 ▶ 대한민국 뉴스의 시작, 연합뉴스TV 앱 다운받기 \n\n==================================================\n[KBS 광주][앵커]앞서 신안 가거도와 완도항의 상황 보신 것처럼 광주와 전남 지역도 점차 태풍의 영향을 받고 있습니다. 이번에는 취재기자와 함께 태풍 상황 좀 더 자세히 알아보겠습니다.최혜진 기자 나와있습니다.최 기자, 먼저 KBS에 연결된 재난CCTV를 통해 주요 지역 상황 알아볼까요? 최혜진 기자 (join@kbs.co.kr)▶ ‘역대 최강 강풍 우려’ 태풍 바비 실시간 정보 보기▶ 데이터로 본 아동학대…7년 간 무슨 일이? KBS 데이터룸▶ 더 빠르고 정확한 소식을 원하시면 KBS뉴스 구독! \n\n==================================================\n동영상 뉴스태풍 '바비'에 대해 좀 더 자세한 이야기, 서동균 기자와 이야기 나눠보도록 하겠습니다.※ 자세한 내용은 동영상으로 확인하실 수 있습니다.서동균 기자(windy@sbs.co.kr)▶ SBS 뉴스, 네이버에서 편하게 받아보세요​▶ [뉴스속보 보기] 코로나19 재확산 '비상'▶ 더 깊은 인물 이야기 '그, 사람'※ ⓒ SBS & SBS Digital News Lab. : 무단복제 및 재배포 금지 \n\n==================================================\n동영상 뉴스(매경) 신문브리핑6 \"공화당 거물은 안 보이고…'온갖 트럼프'들만 나온다\"외 주요기사(0826)#MBN #아침앤매일경제 #신문브리핑 #이상훈앵커 #미국대선 #공화당전당대회 #트럼프▶ 네이버 메인에서 'MBN뉴스'를 만나보세요!▶ MBN 무료 고화질 온에어 서비스 GO!▶ 공정하고 신뢰받는 뉴스 'MBN 종합뉴스' 바로가기< Copyright ⓒ MBN(www.mbn.co.kr) 무단전재 및 재배포 금지 > \n\n==================================================\n동영상 뉴스<진행>김형오 앵커<출연자>윤경호 MBN 논설위원권상희 시사평론가김태일 기자최은미 기자#MBN #MBN프레스룸 #김형오앵커 #윤경호MBN논설위원 #권상희시사평론가 #김태일기자 #최은미기자 #이재명 #이낙연 #2차재난지원금 #홍남기 #우사인볼트▶ 네이버 메인에서 'MBN뉴스'를 만나보세요!▶ MBN 무료 고화질 온에어 서비스 GO!▶ 공정하고 신뢰받는 뉴스 'MBN 종합뉴스' 바로가기< Copyright ⓒ MBN(www.mbn.co.kr) 무단전재 및 재배포 금지 > \n\n==================================================\n동영상 뉴스최근 체육관 체조교실에서 집단감염이 발생해 감염자가 잇따르고 있는 강원도 원주에서 오늘(25일) 또다시 16명이 추가로 확진 판정을 받았다고 원주시가 밝혔습니다.원창묵 원주시장은 긴급 브리핑에서 \"추가 확진자 16명은 특정한 곳에서 발생한 것이 아니라 제각각 발생한 것으로 보이며 역학조사 중\"이라고 말해 이미 바이러스가 지역사회에 널리 퍼졌을 가능성도 제기됩니다. 연합뉴스TV 기사문의 및 제보 : 카톡/라인 jebo23 ▶ 연합뉴스TV 네이버 채널 구독 ▶ 생방송 시청 ▶ 대한민국 뉴스의 시작, 연합뉴스TV 앱 다운받기 \n\n==================================================\n동영상 뉴스(매경) 신문브리핑3 \"정권에 각 세운 진보 인사 5인, 조국 백서 잡는 '조극흑서' 냈다\"외 주요기사(0825)#MBN #아침앤매일경제 #신문브리핑 #이상훈앵커 #조국흑서 #조국백서▶ 네이버 메인에서 'MBN뉴스'를 만나보세요!▶ MBN 무료 고화질 온에어 서비스 GO!▶ 공정하고 신뢰받는 뉴스 'MBN 종합뉴스' 바로가기< Copyright ⓒ MBN(www.mbn.co.kr) 무단전재 및 재배포 금지 > \n\n==================================================\n동영상 뉴스[영상] 수능 D-100 코앞인데…교육계 '혼란'[저작권자(c) YTN & YTN plus 무단전재 및 재배포 금지] ▶ 이 시각 코로나19 확진자 현황을 확인하세요.  ▶ 대한민국 대표 뉴스 채널 YTN 생방송보기  ▶ 네이버에서 YTN 뉴스 채널 구독하기  \n\n==================================================\n동영상 뉴스경찰이 부동산 시장 교란 불법행위 169건을 단속하고 여기에 가담한 823명을 적발했다고 밝혔습니다.이중 불법행위를 저지른 34명은 기소의견으로 송치됐습니다.경찰은 지난 7일부터 100일간 부동산 시장 교란행위 특별단속을 진행하고 있습니다.경찰청 관계자는 \"법과 절차에 따라 수사해 부동산 시장 관련 불법행위를 엄단할 방침\"이라고 밝혔습니다.연합뉴스TV 기사문의 및 제보 : 카톡/라인 jebo23 ▶ 연합뉴스TV 네이버 채널 구독 ▶ 생방송 시청 ▶ 대한민국 뉴스의 시작, 연합뉴스TV 앱 다운받기 \n\n==================================================\n[KBS 창원]부산고법 창원재판부는 장애가 있는 10대 의붓여동생을 수차례 성폭행하고 촬영한 혐의로 재판에 넘겨진 32살 A 씨에게 징역 3년에 집행유예 5년을 선고한 원심을 깨고, 징역 2년 6개월을 선고했습니다.A 씨는 지난 2017년 2월부터 이듬해 11월까지 의붓여동생을 4차례 성폭행하고 한 차례 휴대전화로 촬영한 혐의로 기소됐습니다. 윤경재 기자 (economy@kbs.co.kr)▶ ‘코로나19 팩트체크’ 제대로 알아야 이긴다▶ 우리 동네 무슨 일이? KBS지역뉴스▶ 더 빠르고 정확한 소식을 원하시면 KBS뉴스 구독! \n\n==================================================\n동영상 뉴스(매경) 신문브리핑4 \"트럼프, 전당대회 첫날 후보 지명…나흘 내내 라이브 연설\"외 주요기사(0824)#MBN #아침앤매일경제 #신문브리핑 #이상훈앵커 #트럼프 #바이든 #미국대선▶ 네이버 메인에서 'MBN뉴스'를 만나보세요!▶ MBN 무료 고화질 온에어 서비스 GO!▶ 공정하고 신뢰받는 뉴스 'MBN 종합뉴스' 바로가기< Copyright ⓒ MBN(www.mbn.co.kr) 무단전재 및 재배포 금지 > \n\n==================================================\n동영상 뉴스(매경) 경제브리핑 \"민주당 \"2차 재난지원금, 추석 전 지급이 베스트 플랜\"\"외 주요기사(0824)#MBN #아침앤매일경제 #신문브리핑 #경제브리핑 #이상훈앵커 #재난지원금▶ 네이버 메인에서 'MBN뉴스'를 만나보세요!▶ MBN 무료 고화질 온에어 서비스 GO!▶ 공정하고 신뢰받는 뉴스 'MBN 종합뉴스' 바로가기< Copyright ⓒ MBN(www.mbn.co.kr) 무단전재 및 재배포 금지 > \n\n==================================================\n동영상 뉴스지난 21일 포항시 도구해수욕장에서 실종된 10대로 추정되는 시신 1구가 발견됐습니다.포항해경은 23일 오후 4시 반쯤 도구해수욕장 200m지점에서 사흘 전 일행을 구하려다 실종된 10대로 추정되는 시신을 발견해서 신원을 확인하고 있다고 밝혔습니다.조소희 기자 (jo.sohee@jtbc.co.kr)▶ 시청자와 함께! JTBC 뉴스 제보하기▶ 뉴스의 뒷이야기! JTBC 취재설명서Copyright by JTBC(http://jtbc.joins.com) All Rights Reserved. 무단 전재 및 재배포 금지 \n\n==================================================\n[KBS 전주]전북지방경찰청 디지털 성범죄 특별수사단은 지난 3월부터 넉 달 동안 40명을 입건하고 3명을 구속했습니다.이 가운데 23명은 아동, 청소년 성 착취물을 제작했거나 갖고 있다 적발됐습니다.경찰은 관련 혐의가 있는 70여 건에 대해 추가로 조사를 벌이고 있습니다.서윤덕 기자 (duck@kbs.co.kr)▶ ‘코로나19 팩트체크’ 제대로 알아야 이긴다▶ 우리 동네 무슨 일이? KBS지역뉴스▶ 더 빠르고 정확한 소식을 원하시면 KBS뉴스 구독! \n\n==================================================\n동영상 뉴스<출연자>김종욱 동국대 외래교수 김윤우 변호사천영식 계명대 객원교수박기수 고려대 환경의학연구소 교수#MBN #MBN시사스페셜 #정광재앵커 #김종욱동국대외래교수 #김윤우변호사 #천영식계명대객원교수 #박기수고려대교수 #사랑제일교회 #전광훈목사 #압수수색 #명단확보▶ 네이버 메인에서 'MBN뉴스'를 만나보세요!▶ MBN 무료 고화질 온에어 서비스 GO!▶ 공정하고 신뢰받는 뉴스 'MBN 종합뉴스' 바로가기< Copyright ⓒ MBN(www.mbn.co.kr) 무단전재 및 재배포 금지 > \n\n==================================================\n한국기독교총연합회 대표회장인 전광훈 목사가 지난 2월 23일 광화문 교보빌딩 앞에서 열린 문재인하야범국민투쟁본부(범투본) 주최 대한민국 바로 세우기 국민대회에서 기도하는 모습. 이날 전 목사는 \" 우리는 병 걸려 죽어도 괜찮아. 하늘나라가 확보된 사람이다\"며 신도들에게 코로나19 걱정할 필요 없다고 했다 . © News1(서울=뉴스1) 박태훈 선임기자 =  \n\n==================================================\n[KBS 광주][앵커]KBS 뉴스특보입니다.코로나19 확산세가 가라앉지 않고 있습니다. 밤사이 광주와 전남지역에서 신규 확진자가 잇따라 발생했습니다. 취재기자 연결해서 광주와 전남지역의 코로나19 상황 알아보겠습니다.먼저 광주시청에 나가있는 백미선 기자 연결합니다.  백 기자! 광주시가 오전에 신규확진자 발생 상황을 발표했죠.전해주시죠!백미선 기자 (bee@kbs.co.kr)▶ ‘코로나19 팩트체크’ 제대로 알아야 이긴다▶ 우리 동네 무슨 일이? KBS지역뉴스▶ 더 빠르고 정확한 소식을 원하시면 KBS뉴스 구독! \n\n==================================================\n동영상 뉴스사랑제일교회 관련 확진자가 700명을 넘어섰습니다. 이런 가운데 어제(20일) 오후 방역당국이 사랑제일교회에 대한 역학조사와 교인 명단 확보에 나섰지만, 성과 없이 철수했습니다.  ▶ 연합뉴스TV 네이버 채널 구독 ▶ 생방송 시청 ▶ 대한민국 뉴스의 시작, 연합뉴스TV 앱 다운받기 \n\n==================================================\n"
    }
   ],
   "source": [
    "for i in data[data['content'].map(lambda x : len(x) < 300) ]['content'].values:\n",
    "    print(i, '\\n')\n",
    "    print('=' * 50)"
   ]
  },
  {
   "cell_type": "code",
   "execution_count": 318,
   "metadata": {},
   "outputs": [],
   "source": [
    "data = data[data['content'].map(lambda x : len(x) >= 300) ].reset_index(drop=True)"
   ]
  },
  {
   "cell_type": "markdown",
   "metadata": {},
   "source": [
    "### 2. 기사 내용이 아닌 부분 제거\n",
    "- 메일 형식 부분 제거\n",
    "- OOO 기자 / OOO기자 제거\n",
    "- 문장 부호 제거(구두점은 살려둠)\n",
    "- '다.'기준으로 문장 split해서 필요없는 뒷부분 제거\n",
    "- 한문 제거"
   ]
  },
  {
   "cell_type": "code",
   "execution_count": 319,
   "metadata": {},
   "outputs": [],
   "source": [
    "content = data['content']"
   ]
  },
  {
   "cell_type": "code",
   "execution_count": 320,
   "metadata": {},
   "outputs": [],
   "source": [
    "# 괄호 제거\n",
    "content = content.str.replace(r'\\[[^]]*\\]', ' ')\n",
    "content = content.str.replace(r'\\([^)]*\\)', ' ')\n",
    "content = content.str.replace(r'\\<[^>]*\\>', ' ')\n",
    "content = content.str.replace(r'◀[^▶]*▶', ' ')\n",
    "\n",
    "# 메일 부분 제거 \n",
    "content = content.str.replace(r'\\S+@\\S+\\.\\S+', ' ')\n",
    "\n",
    "# OOO 기자 / OOO기자 제거\n",
    "content = content.str.replace(r'[\\w]+\\s?기자', ' ')\n",
    "\n",
    "# 구두점을 제외한 문장부호 제거\n",
    "content = content.str.replace(r'[^\\w|^.]', ' ')\n",
    "content = content.str.replace('ㆍ', ' ')\n",
    "\n",
    "# 한문 제거\n",
    "content = content.str.replace('.*[\\u2e80-\\u2eff\\u31c0-\\u31ef\\u3200-\\u32ff\\u3400-\\u4dbf\\u4e00-\\u9fbf\\uf900-\\ufaff].*', ' ')"
   ]
  },
  {
   "cell_type": "code",
   "execution_count": 321,
   "metadata": {
    "tags": []
   },
   "outputs": [],
   "source": [
    "# 다. 기준으로 split해서 마지막 2문장 버리고\n",
    "# 기사 앞 문장 전처리\n",
    "# 구두점 제거\n",
    "content = content.map(lambda x: x.split('다.')[:-2])\n",
    "content = content.map(lambda x: [a+'다' for a in x])"
   ]
  },
  {
   "cell_type": "code",
   "execution_count": 322,
   "metadata": {},
   "outputs": [],
   "source": [
    "data['content'] = content"
   ]
  },
  {
   "cell_type": "markdown",
   "metadata": {},
   "source": [
    "### 3. 기사 앞 문장 전처리\n",
    "- 동영상, 앵커, 뉴스데스크, 뉴스, 뉴스5시 정치부회의"
   ]
  },
  {
   "cell_type": "code",
   "execution_count": 323,
   "metadata": {
    "tags": []
   },
   "outputs": [
    {
     "output_type": "stream",
     "name": "stdout",
     "text": "기존 데이터 shape: (9592, 4)\n빈 데이티 제거 후 shape: (9375, 4)\n"
    }
   ],
   "source": [
    "print('기존 데이터 shape:', data.shape)\n",
    "data = data[data['content'].apply(lambda x: len(x) != 0)].reset_index(drop=True)\n",
    "print('빈 데이티 제거 후 shape:', data.shape)"
   ]
  },
  {
   "cell_type": "code",
   "execution_count": 324,
   "metadata": {},
   "outputs": [],
   "source": [
    "content = data['content']"
   ]
  },
  {
   "cell_type": "code",
   "execution_count": 325,
   "metadata": {},
   "outputs": [],
   "source": [
    "content_first = content.map(lambda x: x[0]).str.replace('(동영상|뉴스|앵커|뉴스데스크|뉴스5시|정치부회의|영상|멘트|제보자들|인터뷰 자료의 저작권은 KBS라디오에 있습니다|특집)', ' ')"
   ]
  },
  {
   "cell_type": "code",
   "execution_count": 326,
   "metadata": {},
   "outputs": [],
   "source": [
    "for i, stc in enumerate(content_first):\n",
    "    content[i][0] = stc"
   ]
  },
  {
   "cell_type": "code",
   "execution_count": 327,
   "metadata": {},
   "outputs": [],
   "source": [
    "content = content.map(lambda x: ' '.join(x))\n",
    "\n",
    "# 구두점 제거\n",
    "regex = re.compile(r\"(?<!\\d)[.](?!\\d)\")\n",
    "content = content.map(lambda x: re.sub(regex, ' ', x))"
   ]
  },
  {
   "cell_type": "code",
   "execution_count": 328,
   "metadata": {},
   "outputs": [
    {
     "output_type": "execute_result",
     "data": {
      "text/plain": "0       강원대학교 방재 전문대학원 김병식 교수님 모시고 태풍 피해 어떻게 대응해야 하는지 ...\n1       이번에는 태풍에 대비하고 있는 서울시 재난안전상황실로 가보겠습니다     서울시도 ...\n2       방역 지침 따라 봉사시설 줄줄이 휴관대학은 교육부 대책 마련에서 제외돼봉사활동을 신...\n3       8호 태풍  바비 는 시속 30km의 속도로 서해를 타고 올라오고 있습니다 목포를 ...\n4       서해와 맞닿은 인천도 걱정되는 곳입니다  인천항   연결합니다    그곳 상황은 어...\n                              ...                        \n9370    원주시  코로나19 진단검사 이행 행정명령 발령           강원 원주시는 신...\n9371    강원도 원주시에서 코로나 19 추가 확진자가 잇따르고 있습니다  어제  원주 무실동...\n9372    사랑제일교회 20명 광복절 광화문 집회 관련 12명 추가       수도권 교회 및...\n9373    20일 오후 5시부터 21일 오전 3시30분까지 대치 일부 방역당국 관계자들 교회 ...\n9374    교인 교회 관계자 반발로 명단 확보 실패방역당국이 서울 성북구 사랑제일교회에 대한 ...\nName: content, Length: 9375, dtype: object"
     },
     "metadata": {},
     "execution_count": 328
    }
   ],
   "source": [
    "content.map(lambda x: x.strip())"
   ]
  },
  {
   "cell_type": "code",
   "execution_count": 329,
   "metadata": {},
   "outputs": [],
   "source": [
    "data['content'] = content"
   ]
  },
  {
   "cell_type": "code",
   "execution_count": 331,
   "metadata": {},
   "outputs": [],
   "source": [
    "data[['title', 'content']].to_csv('../data/data_after_preprocessing.csv', index=False)"
   ]
  },
  {
   "cell_type": "code",
   "execution_count": null,
   "metadata": {},
   "outputs": [],
   "source": []
  }
 ]
}