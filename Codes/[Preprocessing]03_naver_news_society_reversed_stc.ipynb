{
 "metadata": {
  "language_info": {
   "codemirror_mode": {
    "name": "ipython",
    "version": 3
   },
   "file_extension": ".py",
   "mimetype": "text/x-python",
   "name": "python",
   "nbconvert_exporter": "python",
   "pygments_lexer": "ipython3",
   "version": "3.7.6-final"
  },
  "orig_nbformat": 2,
  "kernelspec": {
   "name": "python3",
   "display_name": "Python 3"
  }
 },
 "nbformat": 4,
 "nbformat_minor": 2,
 "cells": [
  {
   "cell_type": "code",
   "execution_count": 2,
   "metadata": {},
   "outputs": [],
   "source": [
    "import pandas as pd\n",
    "from preprocessing import prep_title, prep_content, prep_data"
   ]
  },
  {
   "cell_type": "code",
   "execution_count": 3,
   "metadata": {
    "tags": []
   },
   "outputs": [
    {
     "output_type": "stream",
     "name": "stdout",
     "text": "(10000, 2)\n"
    }
   ],
   "source": [
    "data = pd.read_csv('../data/naver_news_society_10000.csv')\n",
    "print(data.shape)"
   ]
  },
  {
   "cell_type": "code",
   "execution_count": 4,
   "metadata": {
    "tags": []
   },
   "outputs": [
    {
     "output_type": "stream",
     "name": "stdout",
     "text": "# start title preprocessing\n-----> preprocessing... 1/2\n-----> preprocessing... 2/2\n# title preprocessing done \n\n# start content preprocessing \n-----> preprocessing... 1/8\n-----> preprocessing... 2/8\n-----> preprocessing... 3/8\n-----> preprocessing... 4/8\n-----> preprocessing... 5/8\n-----> preprocessing... 6/8\n-----> preprocessing... 7/8\n-----> preprocessing... 8/8\n# content preprocessing done\n(9581, 2)\n"
    }
   ],
   "source": [
    "# 전처리 할 dataframe을 data자리에 넣으면 전처리 됩니다\n",
    "    # prep_data 코드는 `preprocessing.py`입니다.\n",
    "prep_data = prep_data(data)\n",
    "print(prep_data.shape)"
   ]
  },
  {
   "cell_type": "code",
   "execution_count": 5,
   "metadata": {},
   "outputs": [
    {
     "output_type": "execute_result",
     "data": {
      "text/plain": "                                  title  \\\n0          서해상으로 북상 중인 태풍  바비  피해 줄이려면    \n1   새벽 4시 5시 사이 서울 근접  이 시각 서울시 재난안전상황실   \n2       코로나 때문에 봉사시간 못 채워    졸업 막힌 대학생들   \n3    성인 남자가 서 있기 힘들 정도    태풍  바비  군산 도착   \n4      위험 반원  인천 초비상 초속 25m 넘으면 영종대교 통제   \n\n                                             content  \n0  Q  특히 농어촌에서 어떤 피해가 발생할지가 걱정인데요  Q  도심  집에 계신 분...  \n1  만약 이런 피해가 발생하면 가까운 구청 상황실이나 다산콜센터 등에 연락하시면 됩니다...  \n2  정부 차원의 대책 마련이 필요하다는 의견도 나온다  코로나19라는 비상 상황인 만큼...  \n3  지금까지 전북 군산 비응항에서 YTN 김민성 입니다 이번 태풍  아무쪼록 큰 피해 ...  \n4  또 초속 25m 이상 바람이 불 경우 인천공항으로 향하는 영종대교와 인천대교 차량 ...  ",
      "text/html": "<div>\n<style scoped>\n    .dataframe tbody tr th:only-of-type {\n        vertical-align: middle;\n    }\n\n    .dataframe tbody tr th {\n        vertical-align: top;\n    }\n\n    .dataframe thead th {\n        text-align: right;\n    }\n</style>\n<table border=\"1\" class=\"dataframe\">\n  <thead>\n    <tr style=\"text-align: right;\">\n      <th></th>\n      <th>title</th>\n      <th>content</th>\n    </tr>\n  </thead>\n  <tbody>\n    <tr>\n      <th>0</th>\n      <td>서해상으로 북상 중인 태풍  바비  피해 줄이려면</td>\n      <td>Q  특히 농어촌에서 어떤 피해가 발생할지가 걱정인데요  Q  도심  집에 계신 분...</td>\n    </tr>\n    <tr>\n      <th>1</th>\n      <td>새벽 4시 5시 사이 서울 근접  이 시각 서울시 재난안전상황실</td>\n      <td>만약 이런 피해가 발생하면 가까운 구청 상황실이나 다산콜센터 등에 연락하시면 됩니다...</td>\n    </tr>\n    <tr>\n      <th>2</th>\n      <td>코로나 때문에 봉사시간 못 채워    졸업 막힌 대학생들</td>\n      <td>정부 차원의 대책 마련이 필요하다는 의견도 나온다  코로나19라는 비상 상황인 만큼...</td>\n    </tr>\n    <tr>\n      <th>3</th>\n      <td>성인 남자가 서 있기 힘들 정도    태풍  바비  군산 도착</td>\n      <td>지금까지 전북 군산 비응항에서 YTN 김민성 입니다 이번 태풍  아무쪼록 큰 피해 ...</td>\n    </tr>\n    <tr>\n      <th>4</th>\n      <td>위험 반원  인천 초비상 초속 25m 넘으면 영종대교 통제</td>\n      <td>또 초속 25m 이상 바람이 불 경우 인천공항으로 향하는 영종대교와 인천대교 차량 ...</td>\n    </tr>\n  </tbody>\n</table>\n</div>"
     },
     "metadata": {},
     "execution_count": 5
    }
   ],
   "source": [
    "prep_data.head()"
   ]
  },
  {
   "cell_type": "code",
   "execution_count": null,
   "metadata": {},
   "outputs": [],
   "source": [
    "# prep_data.to_csv('../data/reversed_data_after_preprocessing.csv', index=False)"
   ]
  }
 ]
}